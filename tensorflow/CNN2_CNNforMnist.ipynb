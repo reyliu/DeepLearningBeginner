{
 "cells": [
  {
   "cell_type": "code",
   "execution_count": 1,
   "metadata": {},
   "outputs": [
    {
     "name": "stdout",
     "output_type": "stream",
     "text": [
      "Extracting MNIST_data/train-images-idx3-ubyte.gz\n",
      "Extracting MNIST_data/train-labels-idx1-ubyte.gz\n",
      "Extracting MNIST_data/t10k-images-idx3-ubyte.gz\n",
      "Extracting MNIST_data/t10k-labels-idx1-ubyte.gz\n",
      "Tensor(\"Conv2D:0\", shape=(?, 28, 28, 32), dtype=float32)\n",
      "Tensor(\"Relu:0\", shape=(?, 28, 28, 32), dtype=float32)\n",
      "Tensor(\"MaxPool:0\", shape=(?, 14, 14, 32), dtype=float32)\n",
      "Tensor(\"Conv2D_1:0\", shape=(?, 14, 14, 64), dtype=float32)\n",
      "Tensor(\"Relu_1:0\", shape=(?, 14, 14, 64), dtype=float32)\n",
      "Tensor(\"MaxPool_1:0\", shape=(?, 7, 7, 64), dtype=float32)\n",
      "Learning started.\n",
      "Epoch: 01 loss =  0.345597459\n",
      "Epoch: 02 loss =  0.091797432\n",
      "Epoch: 03 loss =  0.068372396\n",
      "Epoch: 04 loss =  0.056379004\n",
      "Epoch: 05 loss =  0.046920019\n",
      "Epoch: 06 loss =  0.041171568\n",
      "Epoch: 07 loss =  0.036644606\n",
      "Epoch: 08 loss =  0.032853815\n",
      "Epoch: 09 loss =  0.028126524\n",
      "Epoch: 10 loss =  0.024791351\n",
      "Epoch: 11 loss =  0.022118081\n",
      "Epoch: 12 loss =  0.020218051\n",
      "Epoch: 13 loss =  0.017048809\n",
      "Epoch: 14 loss =  0.015361157\n",
      "Epoch: 15 loss =  0.013110995\n",
      "Learning ended.\n",
      "Accuracy: 0.9879\n",
      "Label:  [7]\n",
      "Prediction:  [7]\n"
     ]
    },
    {
     "data": {
      "image/png": "[encoded data removed]",
      "text/plain": [
       "<matplotlib.figure.Figure at 0x7f5f5193da20>"
      ]
     },
     "metadata": {},
     "output_type": "display_data"
    }
   ],
   "source": [
    "import tensorflow as tf\n",
    "import random\n",
    "import matplotlib.pyplot as plt\n",
    "from tensorflow.examples.tutorials.mnist import input_data\n",
    "\n",
    "tf.set_random_seed(777)\n",
    "\n",
    "mnist = input_data.read_data_sets(\"MNIST_data/\", one_hot=True)\n",
    "learning_rate = 0.001\n",
    "training_epochs = 15\n",
    "batch_size = 100\n",
    "\n",
    "X = tf.placeholder(tf.float32, [None, 28*28])\n",
    "X_img = tf.reshape(X, [-1, 28, 28, 1])\n",
    "Y = tf.placeholder(tf.float32, [None, 10])\n",
    "\n",
    "W1 = tf.Variable(tf.random_normal([3, 3, 1, 32], stddev=0.01))\n",
    "L1 = tf.nn.conv2d(X_img, W1, strides=[1,1,1,1], padding='SAME')\n",
    "L1_relu = tf.nn.relu(L1)\n",
    "L1_maxpool = tf.nn.max_pool(L1_relu, ksize=[1,2,2,1],\n",
    "                           strides=[1,2,2,1], padding='SAME')\n",
    "print(L1)\n",
    "print(L1_relu)\n",
    "print(L1_maxpool)\n",
    "\n",
    "W2 = tf.Variable(tf.random_normal([3,3,32,64], stddev=0.01))\n",
    "L2 = tf.nn.conv2d(L1_maxpool, W2, strides=[1,1,1,1], padding='SAME')\n",
    "L2_relu = tf.nn.relu(L2)\n",
    "L2_maxpool = tf.nn.max_pool(L2_relu, ksize=[1,2,2,1],\n",
    "                           strides=[1,2,2,1], padding='SAME')\n",
    "print(L2)\n",
    "print(L2_relu)\n",
    "print(L2_maxpool)\n",
    "\n",
    "L2_flat = tf.reshape(L2_maxpool, [-1, 7*7*64])\n",
    "\n",
    "W3 = tf.get_variable('W3', shape = [7*7*64, 10],\n",
    "                    initializer = tf.contrib.layers.xavier_initializer())\n",
    "b = tf.Variable(tf.random_normal([10]))\n",
    "logits = tf.matmul(L2_flat, W3) + b\n",
    "\n",
    "loss = tf.reduce_mean(tf.nn.softmax_cross_entropy_with_logits(\n",
    "        logits=logits, labels=Y))\n",
    "optimizer = tf.train.AdamOptimizer(learning_rate=learning_rate).minimize(loss)\n",
    "\n",
    "sess = tf.Session()\n",
    "sess.run(tf.global_variables_initializer())\n",
    "print('Learning started.')\n",
    "for epoch in range(training_epochs):\n",
    "    avg_loss = 0\n",
    "    total_batch = int(mnist.train.num_examples/batch_size)\n",
    "    for i in range(total_batch):\n",
    "        x, y = mnist.train.next_batch(batch_size)\n",
    "        feed = {X: x, Y:y}\n",
    "        _, l = sess.run([optimizer, loss], feed)\n",
    "        avg_loss += l/total_batch\n",
    "    print('Epoch:', '%02d'%(epoch+1), 'loss = ', '{:.9f}'.format(avg_loss))\n",
    "print('Learning ended.')\n",
    "\n",
    "correct_prediction = tf.equal(tf.argmax(logits, 1), tf.argmax(Y, 1))\n",
    "accuracy = tf.reduce_mean(tf.cast(correct_prediction, tf.float32))\n",
    "print('Accuracy:', sess.run(accuracy, {X:mnist.test.images, Y:mnist.test.labels}))\n",
    "\n",
    "r = random.randint(0, mnist.test.num_examples - 1)\n",
    "print(\"Label: \", sess.run(tf.argmax(mnist.test.labels[r:r+1], 1)))\n",
    "print(\"Prediction: \", sess.run(tf.argmax(logits, 1), {X:mnist.test.images[r:r+1]}))\n",
    "plt.imshow(mnist.test.images[r:r+1].reshape(28, 28),\n",
    "          cmap = 'Greys', interpolation = 'nearest')\n",
    "plt.show()"
   ]
  },
  {
   "cell_type": "code",
   "execution_count": null,
   "metadata": {
    "collapsed": true
   },
   "outputs": [],
   "source": []
  }
 ],
 "metadata": {
  "kernelspec": {
   "display_name": "Python 3",
   "language": "python",
   "name": "python3"
  },
  "language_info": {
   "codemirror_mode": {
    "name": "ipython",
    "version": 3
   },
   "file_extension": ".py",
   "mimetype": "text/x-python",
   "name": "python",
   "nbconvert_exporter": "python",
   "pygments_lexer": "ipython3",
   "version": "3.6.2"
  }
 },
 "nbformat": 4,
 "nbformat_minor": 2
}
